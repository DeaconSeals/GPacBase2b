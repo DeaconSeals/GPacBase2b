{
 "cells": [
  {
   "cell_type": "markdown",
   "id": "6a1aad1b",
   "metadata": {},
   "source": [
    "# Assignment 2b Notebook: Automated Design of AI Agents with Genetic Programming\n",
    "In this assignment, you will further iterate on to your Assignment 2a implementation of random parse tree generation to realize a full genetic programming (GP) implementation. Like Assignment Series 1, you will leverage components you've already implemented in this assignment. From your previous assignment implementations, copy over the following files:\n",
    "* baseEvolution.py\n",
    "* selection.py\n",
    "* treeGenotype.py\n",
    "\n",
    "As usual, be careful not to overwrite any of the provided files that may have been modified since previous assignments. To begin the assignment, execute the following cell. **If you implemented your genotype in a new file, be sure to import it in the next cell!**"
   ]
  },
  {
   "cell_type": "code",
   "execution_count": null,
   "id": "3ab84990",
   "metadata": {},
   "outputs": [],
   "source": [
    "# Configure this notebook to automatically reload modules as they're modified\n",
    "# https://stackoverflow.com/questions/1907993/autoreload-of-modules-in-ipython\n",
    "%load_ext autoreload\n",
    "%autoreload 2\n",
    "\n",
    "import matplotlib.pyplot as plt\n",
    "from snakeeyes import readConfig\n",
    "from fitness import play_GPac\n",
    "from selection import *\n",
    "from \n",
    "\n",
    "%matplotlib inline\n",
    "plt.rcParams['figure.figsize'] = (12.0, 12.0) # set default size of plots\n",
    "plt.rcParams['image.interpolation'] = 'nearest'\n",
    "plt.rcParams['image.cmap'] = 'gray'\n",
    "\n",
    "print('The first cell has been executed!')"
   ]
  },
  {
   "cell_type": "markdown",
   "id": "bab68443",
   "metadata": {},
   "source": [
    "## Recombination\n",
    "Assuming you've correctly implemented population initialization in Assignment 2a, we'll begin this assignment by implementing recombination with subtree crossover. Like Assignment Series 1, your recombination method should take a mate as input and recombine the genes of `self` and `mate`, assign the recombination to the `gene` member variable of `child` and then return child. Recall that you should somehow enforce a configurable maximum tree depth throughout this assignment and this applies to children produced with recombination and mutation.\n",
    "\n",
    "How you implement subtree crossover in practice depends on your implementation of the parse tree gene and is thus open-ended. Implement `treeGenotype.recombine` and test your implementation by executing the following cell."
   ]
  },
  {
   "cell_type": "code",
   "execution_count": null,
   "id": "73aebb72",
   "metadata": {},
   "outputs": [],
   "source": [
    "# read config\n",
    "config = readConfig('./configs/green2b_config.txt', globalVars=globals(), localVars=locals())\n",
    "\n",
    "# initialize population\n",
    "randomPopulation = treeGenotype.initialization(25, **config['initialization_kwargs'])\n",
    "\n",
    "# perform recombination\n",
    "children = list()\n",
    "for idx in range(len(randomPopulation)):\n",
    "    children.append(randomPopulation[idx].recombine(randomPopulation[idx+1%len(randomPopulation)], **config['recombination_kwargs']))\n",
    "\n",
    "# print recombined trees to files\n",
    "for idx, individual in enumerate(children):\n",
    "    with open(f'treeTests/tree{idx}r.txt','w') as f:\n",
    "        f.write(individual.print())\n",
    "del randomPopulation\n",
    "del children\n",
    "del config\n",
    "\n",
    "# evaluate tree files\n",
    "!python treeCheck.py treeTests/tree*r.txt"
   ]
  },
  {
   "cell_type": "markdown",
   "id": "73b802db",
   "metadata": {},
   "source": [
    "## Mutation\n",
    "Recall that mutation in GP is mutually exclusive with recombination. That is to say that mutation in GP is used to directly produce children by mutating a copy of the parent.\n",
    "\n",
    "Using your parse tree gene implementation, implement subtree mutation in `treeGenotype.mutate` and test your implementation by executing the next cell. Don't forget to enforce max tree depth like in recombination!"
   ]
  },
  {
   "cell_type": "code",
   "execution_count": null,
   "id": "352638f6",
   "metadata": {},
   "outputs": [],
   "source": [
    "# read config\n",
    "config = readConfig('./configs/green2b_config.txt', globalVars=globals(), localVars=locals())\n",
    "\n",
    "# initialize population\n",
    "randomPopulation = treeGenotype.initialization(25, **config['initialization_kwargs'])\n",
    "\n",
    "# perform mutation\n",
    "children = list()\n",
    "for idx in range(len(randomPopulation)):\n",
    "    children.append(randomPopulation[idx].mutate(**config['mutation_kwargs']))\n",
    "\n",
    "# print mutated trees to files\n",
    "for idx, individual in enumerate(children):\n",
    "    with open(f'treeTests/tree{idx}m.txt','w') as f:\n",
    "        f.write(individual.print())\n",
    "del randomPopulation\n",
    "del children\n",
    "del config\n",
    "\n",
    "# evaluate tree files\n",
    "!python treeCheck.py treeTests/tree*m.txt"
   ]
  },
  {
   "cell_type": "markdown",
   "id": "9b505608",
   "metadata": {},
   "source": [
    "## Implementing Genetic Programming\n",
    "By this point, you should have a complete implementation of your genotype and we can turn our attention to implementing the complete GP algorithm.\n",
    "\n",
    "### Parsimony Pressure\n",
    "Recall from the lecture and videos by Dr. Koza that GP tends to produce individual genotypes of increasing size without a mechanism to curb this. You will implement a parsimony penalty to encourage your GP to produce more compact trees (in addition to the depth limits you already have). With this mechanism of parsimony pressure, you will penalize the fitness of a solution based on their size. $fitness(i)=rawFitness(i)-C_p*size(i)$ where $C_p$ is a penalty coefficient from your config file and $size(i)$ is a function that returns the size of individual $i$. The two most obvious metrics of tree size are tree depth and node count, but you are encouraged with experiments to use the size metric that performs best.\n",
    "\n",
    "**Note**: The implementation of a parsimony penalty is nearly identical to the penalty-based constraint satisfaction method you implemented in Assignment 1c. Like Assignment 1c, *it is not meaningful to compare penalized fitness with unpenalized fitness* and we require that you use penalized fitness for evolution and raw fitness for analysis.\n",
    "\n",
    "In the following cell, implement a function that performs fitness evaluations on an input population using the input configuration parameters and assigns parsimony-penalized fitness, raw fitness, and saves the log of the fitness evaluation."
   ]
  },
  {
   "cell_type": "code",
   "execution_count": null,
   "id": "31027c07",
   "metadata": {},
   "outputs": [],
   "source": [
    "# evaluate the population and assign fitness, rawFitness, and logs as described above\n",
    "def evaluate_population(population, penalty_coefficient, **fitness_kwargs):\n",
    "    pass"
   ]
  },
  {
   "cell_type": "markdown",
   "id": "46bb9280",
   "metadata": {},
   "source": [
    "Now test your implementation by executing the following cell."
   ]
  },
  {
   "cell_type": "code",
   "execution_count": null,
   "id": "2d158b06",
   "metadata": {},
   "outputs": [],
   "source": [
    "config = readConfig('./configs/green2b_config.txt', globalVars=globals(), localVars=locals())\n",
    "\n",
    "# calling your function to test things out (this function is called the same as in notebook 1c)\n",
    "evaluate_population(examplePopulation, **config['fitness_kwargs'])\n",
    "\n",
    "print(f'Individuals with unassigned fitness: {len([individual.fitness for individual in examplePopulation if individual.fitness is None])}')\n",
    "print(f'Number of fitness evaluations performed: {len([individual.fitness for individual in examplePopulation if individual.fitness is not None])}')\n",
    "print(f'Average fitness of population: {statistics.mean([individual.fitness for individual in examplePopulation])}')\n",
    "maxFitness = max([individual.fitness for individual in examplePopulation])\n",
    "print(f'Best fitness in population: {maxFitness}')\n",
    "print(f'Average unpenalized (raw) fitness of population: {statistics.mean([individual.rawFitness for individual in examplePopulation])}')\n",
    "maxRawFitness = max([individual.rawFitness for individual in examplePopulation])\n",
    "print(f'Best unpenalized (raw) fitness in population: {maxRawFitness}')\n",
    "bestLog = None\n",
    "for individual in examplePopulation:\n",
    "    if individual.fitness == maxFitness:\n",
    "        bestLog = individual.log\n",
    "        break\n",
    "\n",
    "print(f'Found log of highest scoring individual? {bestLog is not None}')\n",
    "with open(game_log_path, 'w') as f:\n",
    "\t[f.write(f'{line}\\n') for line in bestLog]\n",
    "    \n",
    "print(f\"The log of the most fit individual was written to {game_log_path}\")\n",
    "\n",
    "del examplePopulation\n",
    "del config"
   ]
  },
  {
   "cell_type": "markdown",
   "id": "cbe93122",
   "metadata": {},
   "source": [
    "### Child Generation\n",
    "With fitness evaluation implemented, we can now perform parent selection and move to implementing child generation with the `geneticProgrammingPopulation` class. This class inherits the `baseEvolutionPopulation` class from last assignment and should be able to directly use the inherited initialization and survival selection methods without modification. Child generation is different in GP, as mentioned previously in this notebook, so you need to implement the GP version of `generate_children` in the `geneticProgrammingPopulation` class. Once complete, test your implementation in the following cell."
   ]
  },
  {
   "cell_type": "code",
   "execution_count": null,
   "id": "d11352eb",
   "metadata": {},
   "outputs": [],
   "source": [
    "config = readConfig('./configs/green2b_config.txt', globalVars=globals(), localVars=locals())\n",
    "\n",
    "# full initialization of your GP population\n",
    "exampleEA = geneticProgrammingPopulation(**config['EA_configs'], **config)\n",
    "evaluate_population(exampleEA.population, **config['fitness_kwargs'])\n",
    "exampleEA.evaluations = len(exampleEA.population)\n",
    "print(f'Average fitness of population: {statistics.mean([individual.fitness for individual in exampleEA.population])}')\n",
    "print(f'Best fitness in population: {max([individual.fitness for individual in exampleEA.population])}')\n",
    "print(f'Number of fitness evaluations: {exampleEA.evaluations}')\n",
    "\n",
    "# generate children\n",
    "children = exampleEA.generate_children()\n",
    "evaluate_population(children, config['fitness_kwargs'])\n",
    "exampleEA.evaluations += len(children)\n",
    "print(f'Average fitness of children: {statistics.mean([individual.fitness for individual in children])}')\n",
    "print(f'Best fitness of children: {max([individual.fitness for individual in children])}')\n",
    "print(f'Number of fitness evaluations: {exampleEA.evaluations}')\n",
    "\n",
    "# print children trees to files\n",
    "for idx, individual in enumerate(children):\n",
    "    with open(f'treeTests/tree{idx}c.txt','w') as f:\n",
    "        f.write(individual.print())\n",
    "del exampleEA\n",
    "del children\n",
    "del config\n",
    "\n",
    "# evaluate tree files\n",
    "!python treeCheck.py treeTests/tree*c.txt"
   ]
  },
  {
   "cell_type": "markdown",
   "id": "88f073c8",
   "metadata": {},
   "source": [
    "## Single Run Experiment\n",
    "At this point, you should have implemented the full GP algorithm to evolve GPac controllers! Now put all the components together and implement a single-run experiment with 2,000 fitness evaluations in the next cell."
   ]
  },
  {
   "cell_type": "code",
   "execution_count": null,
   "id": "824c0bbe",
   "metadata": {},
   "outputs": [],
   "source": [
    "number_evaluations = 2000\n",
    "\n",
    "# You can parse different configuration files here as necessary\n",
    "config = readConfig('./configs/green2b_config.txt', globalVars=globals(), localVars=locals())\n",
    "\n",
    "# implement your EA here\n"
   ]
  },
  {
   "cell_type": "markdown",
   "id": "d5f3fbce",
   "metadata": {},
   "source": [
    "## Multi-Run Experiments\n",
    "Implement a full 30-run experiment with 2,000 fitness evaluations per run. For each generation, log the average fitness and best fitness of the current population. Average this data across all 30 runs to produce a plot of fitness vs evaluations with average and best fitness averaged across all 30 runs. For each run, log the best (unpenalized/raw) fitness encountered for statistical analysis with your results from Assignment 2a. For the individual with the highest fitness of the full 30-run experiment, save the log for visualization and informal analysis and comparison with the best agent from Assignment 2a."
   ]
  },
  {
   "cell_type": "code",
   "execution_count": null,
   "id": "88d0a1fb",
   "metadata": {},
   "outputs": [],
   "source": [
    "number_runs = 30\n",
    "number_evaluations = 2000\n",
    "\n",
    "# You can parse different configuration files here as necessary\n",
    "config = readConfig('./configs/green2b_config.txt', globalVars=globals(), localVars=locals())\n",
    "\n",
    "# Implement your 30-run experiment here\n"
   ]
  },
  {
   "cell_type": "markdown",
   "id": "03ede87f",
   "metadata": {},
   "source": [
    "## RED Deliverables\n",
    "The RED deliverables for this assignment task you with implementing controllers that control multiple Pac-Man or multiple ghosts. Implementing this requires the modification of your primitives, alternate definitions of fitness (if evolving ghosts), and a potentially large modification of the fitness function `play_GPac`. To make the modifications to `play_GPac` more feasible, we've included an updated stub function in your repo. In case you've overwritten this file with your code from Assignment 2a, here is the updated function definition\n",
    "```python\n",
    "def play_GPac(pac_controller, map_gene, height, width, ghost_type='wander', ghost_controller=None, pac_type='genetic', **kwargs):\n",
    "\t'''\tFitness function that plays a game using the provided pac_controller,\n",
    "\t\tmap_gene, and/or ghost_controller to assess all inputs.\n",
    "\n",
    "\t\tReturns Pac-Man score from a full game as well as the game log.\n",
    "\t'''\n",
    "\tgame_map = translate_gene(map_gene, height, width)\n",
    "\tgame_map, num_repairs = repair_map(game_map)\n",
    "\tgame = gpac.GPacGame(game_map, **kwargs)\n",
    "\n",
    "\t# select Pac-Man strategy\n",
    "\tif pac_type == 'pill':\n",
    "\t\tpac_class = staticAgents.shortestPathPillAgent\n",
    "\t\tpac = {player: pac_class() for player in game.players if 'm' in player}\n",
    "\telif pac_type == 'fruit':\n",
    "\t\tpac_class = staticAgents.shortestPathFruitAgent\n",
    "\t\tpac = {player: pac_class() for player in game.players if 'm' in player}\n",
    "\telif pac_type == 'avoid':\n",
    "\t\tpac_class = staticAgents.AvoidingPacmanAgent\n",
    "\t\tpac = {player: pac_class() for player in game.players if 'm' in player}\n",
    "\telif pac_type != 'genetic':\n",
    "\t\traise ValueError(f\"{pac_type} is not a known type of Pac-man agent. Accepted types are ['pill','fruit','avoid','genetic']\")\n",
    "\n",
    "\t# select ghost strategy\n",
    "\tif ghost_type == 'wander':\n",
    "\t\tghost_class = staticAgents.RandomGhostAgent\n",
    "\t\tghosts = {player: ghost_class() for player in game.players if 'm' not in player}\n",
    "\telif ghost_type == 'chase':\n",
    "\t\tghost_class = staticAgents.ChasingGhostAgent\n",
    "\t\tghosts = {player: ghost_class() for player in game.players if 'm' not in player}\n",
    "\telif ghost_type != 'genetic':\n",
    "\t\traise ValueError(f\"{ghost_type} is not a known type of ghost agent. Accepted types are ['wander','chase','genetic']\")\n",
    "\t\n",
    "\t\n",
    "\t# game loop\n",
    "\twhile not game.gameover:\n",
    "\t\tfor player in game.players:\n",
    "\t\t\tif 'm' in player:\n",
    "\t\t\t\t# select Pac-Man move using either a genetic or a static agent\n",
    "\t\t\t\tif pac_type == 'genetic':\n",
    "\t\t\t\t\tactions = game.get_actions(player=player)\n",
    "\t\t\t\t\ts_primes = game.get_observations(actions, player=player)\n",
    "\t\t\t\t\tselected_action = None\n",
    "\t\t\t\t\t# YOUR PAC-MAN CODE GOES HERE##############################\n",
    "\t\t\t\t\t# TODO: score states stored in s_prime with pac_controller\n",
    "\n",
    "\t\t\t\t\t# TODO: assign index of state with the best score to selected_action\n",
    "\n",
    "\t\t\t\t\t# YOUR CODE (PROBABLY) ENDS HERE###########################\n",
    "\t\t\t\t\t# register selected action with game\n",
    "\t\t\t\t\tgame.register_action(actions[selected_action], player=player)\n",
    "\t\t\t\telse:\n",
    "\t\t\t\t\tgame.register_action(pac[player].select_action(game, player), player)\n",
    "\t\t\telse:\n",
    "\t\t\t\t# select ghost move using either a genetic or a static agent\n",
    "\t\t\t\tif ghost_type == 'genetic':\n",
    "\t\t\t\t\tactions = game.get_actions(player=player)\n",
    "\t\t\t\t\ts_primes = game.get_observations(actions, player=player)\n",
    "\t\t\t\t\tselected_action = None\n",
    "\t\t\t\t\t# YOUR GHOST CODE GOES HERE################################\n",
    "\t\t\t\t\t# TODO: score states stored in s_prime with ghost_controller\n",
    "\n",
    "\t\t\t\t\t# TODO: assign index of state with the best score to selected_action\n",
    "\n",
    "\t\t\t\t\t# YOUR CODE (PROBABLY) ENDS HERE###########################\n",
    "\t\t\t\t\t# register selected action with game\n",
    "\t\t\t\t\tgame.register_action(actions[selected_action], player=player)\n",
    "\t\t\t\telse:\n",
    "\t\t\t\t\tgame.register_action(ghosts[player].select_action(game, player), player)\n",
    "\t\tgame.step()\n",
    "\treturn game.score, game.log\n",
    "```"
   ]
  },
  {
   "cell_type": "markdown",
   "id": "00547606",
   "metadata": {},
   "source": [
    "# Side Note: Canonical Genetic Programming\n",
    "\n",
    "Should you apply GP after this class, you should know that the GP algorithm taught in this class (as described in the course textbook) differs somewhat from the algorithm canonically used in GP. Notably, the textbook has certain important omissions regarding the Ramped Half-and-half algorithm and the GP evolutionary cycle. Canonically, the Ramped Half-and-half algorithm uses a `grow` method which ensures at least 1 branch reaches the depth limit. This can be difficult to implement, and has little impact on this assignment, so we don't require the implementation of the canonical version of the algorithm.\n",
    "\n",
    "More importantly, however, is that the canonical GP evolutionary cycle is generational in nature. In the canonical Generational GP algorithm, $\\mu$ children are created each generation via recombination, mutation, or reproduction and the children directly replace the parents without survival selection. The algorithm you implement for this assignment series is much more similar to a Genetic Algorithm in nature and you should be aware of this distinction if you continue to work with GP. For more information see [here](https://geneticprogramming.com/about-gp/gp-workflow/)."
   ]
  }
 ],
 "metadata": {
  "kernelspec": {
   "display_name": "Python 3",
   "language": "python",
   "name": "python3"
  },
  "language_info": {
   "codemirror_mode": {
    "name": "ipython",
    "version": 3
   },
   "file_extension": ".py",
   "mimetype": "text/x-python",
   "name": "python",
   "nbconvert_exporter": "python",
   "pygments_lexer": "ipython3",
   "version": "3.8.8"
  }
 },
 "nbformat": 4,
 "nbformat_minor": 5
}
